{
 "cells": [
  {
   "cell_type": "code",
   "execution_count": 6,
   "metadata": {},
   "outputs": [],
   "source": [
    "import pandas as pd\n",
    "import seaborn as sns\n",
    "import matplotlib.pyplot as plt\n",
    "import numpy as np"
   ]
  },
  {
   "cell_type": "code",
   "execution_count": 23,
   "metadata": {},
   "outputs": [
    {
     "data": {
      "text/html": [
       "<div>\n",
       "<style scoped>\n",
       "    .dataframe tbody tr th:only-of-type {\n",
       "        vertical-align: middle;\n",
       "    }\n",
       "\n",
       "    .dataframe tbody tr th {\n",
       "        vertical-align: top;\n",
       "    }\n",
       "\n",
       "    .dataframe thead th {\n",
       "        text-align: right;\n",
       "    }\n",
       "</style>\n",
       "<table border=\"1\" class=\"dataframe\">\n",
       "  <thead>\n",
       "    <tr style=\"text-align: right;\">\n",
       "      <th></th>\n",
       "      <th>_lv</th>\n",
       "      <th>_genre</th>\n",
       "      <th>_title</th>\n",
       "      <th>_float</th>\n",
       "      <th>_diff</th>\n",
       "      <th>_attr</th>\n",
       "      <th>_clear</th>\n",
       "    </tr>\n",
       "  </thead>\n",
       "  <tbody>\n",
       "    <tr>\n",
       "      <th>1770</th>\n",
       "      <td>40</td>\n",
       "      <td>&lt;a href=\"https://popn.wiki//%E9%9B%A3%E6%98%93...</td>\n",
       "      <td>Over The Rainbow</td>\n",
       "      <td>40.000</td>\n",
       "      <td>中(+0.000±0.0)</td>\n",
       "      <td>NaN</td>\n",
       "      <td>n</td>\n",
       "    </tr>\n",
       "    <tr>\n",
       "      <th>1771</th>\n",
       "      <td>40</td>\n",
       "      <td>&lt;a href=\"https://popn.wiki//%E9%9B%A3%E6%98%93...</td>\n",
       "      <td>ミュージカル“5丁目物語”よりオーヴァーチュア</td>\n",
       "      <td>40.000</td>\n",
       "      <td>中(+0.000±0.0)</td>\n",
       "      <td>NaN</td>\n",
       "      <td>n</td>\n",
       "    </tr>\n",
       "    <tr>\n",
       "      <th>1772</th>\n",
       "      <td>40</td>\n",
       "      <td>&lt;a href=\"https://popn.wiki//%E9%9B%A3%E6%98%93...</td>\n",
       "      <td>BICYCLE</td>\n",
       "      <td>40.500</td>\n",
       "      <td>強(+0.500±0.0)</td>\n",
       "      <td>NaN</td>\n",
       "      <td>n</td>\n",
       "    </tr>\n",
       "    <tr>\n",
       "      <th>1773</th>\n",
       "      <td>40</td>\n",
       "      <td>&lt;a href=\"https://popn.wiki//%E9%9B%A3%E6%98%93...</td>\n",
       "      <td>大見解</td>\n",
       "      <td>39.500</td>\n",
       "      <td>弱(-0.500±0.0)</td>\n",
       "      <td>NaN</td>\n",
       "      <td>c</td>\n",
       "    </tr>\n",
       "    <tr>\n",
       "      <th>1774</th>\n",
       "      <td>40</td>\n",
       "      <td>&lt;a href=\"https://popn.wiki//%E9%9B%A3%E6%98%93...</td>\n",
       "      <td>H@ppy Choice</td>\n",
       "      <td>40.500</td>\n",
       "      <td>強(+0.500±0.0)</td>\n",
       "      <td>NaN</td>\n",
       "      <td>c</td>\n",
       "    </tr>\n",
       "    <tr>\n",
       "      <th>...</th>\n",
       "      <td>...</td>\n",
       "      <td>...</td>\n",
       "      <td>...</td>\n",
       "      <td>...</td>\n",
       "      <td>...</td>\n",
       "      <td>...</td>\n",
       "      <td>...</td>\n",
       "    </tr>\n",
       "    <tr>\n",
       "      <th>3806</th>\n",
       "      <td>50</td>\n",
       "      <td>&lt;a href=\"https://popn.wiki//%E9%9B%A3%E6%98%93...</td>\n",
       "      <td>生命の焔纏いて</td>\n",
       "      <td>49.846</td>\n",
       "      <td>中(-0.154±0.5)</td>\n",
       "      <td>NaN</td>\n",
       "      <td>NaN</td>\n",
       "    </tr>\n",
       "    <tr>\n",
       "      <th>3807</th>\n",
       "      <td>50</td>\n",
       "      <td>&lt;a href=\"https://popn.wiki//%E9%9B%A3%E6%98%93...</td>\n",
       "      <td>ΔΟΓΜΑ</td>\n",
       "      <td>49.351</td>\n",
       "      <td>弱(-0.649±0.4)</td>\n",
       "      <td>NaN</td>\n",
       "      <td>n</td>\n",
       "    </tr>\n",
       "    <tr>\n",
       "      <th>3808</th>\n",
       "      <td>50</td>\n",
       "      <td>&lt;a href=\"https://popn.wiki//%E9%9B%A3%E6%98%93...</td>\n",
       "      <td>virkatoの主題によるperson09風超絶技巧変奏曲</td>\n",
       "      <td>50.267</td>\n",
       "      <td>中(+0.267±0.4)</td>\n",
       "      <td>NaN</td>\n",
       "      <td>NaN</td>\n",
       "    </tr>\n",
       "    <tr>\n",
       "      <th>3809</th>\n",
       "      <td>50</td>\n",
       "      <td>&lt;a href=\"https://popn.wiki//%E9%9B%A3%E6%98%93...</td>\n",
       "      <td>F/S</td>\n",
       "      <td>50.693</td>\n",
       "      <td>強(+0.693±0.3)</td>\n",
       "      <td>NaN</td>\n",
       "      <td>n</td>\n",
       "    </tr>\n",
       "    <tr>\n",
       "      <th>3810</th>\n",
       "      <td>50</td>\n",
       "      <td>&lt;a href=\"https://popn.wiki//%E9%9B%A3%E6%98%93...</td>\n",
       "      <td>ma plume</td>\n",
       "      <td>50.000</td>\n",
       "      <td>NaN</td>\n",
       "      <td>NaN</td>\n",
       "      <td>NaN</td>\n",
       "    </tr>\n",
       "  </tbody>\n",
       "</table>\n",
       "<p>2041 rows × 7 columns</p>\n",
       "</div>"
      ],
      "text/plain": [
       "      _lv                                             _genre  \\\n",
       "1770   40  <a href=\"https://popn.wiki//%E9%9B%A3%E6%98%93...   \n",
       "1771   40  <a href=\"https://popn.wiki//%E9%9B%A3%E6%98%93...   \n",
       "1772   40  <a href=\"https://popn.wiki//%E9%9B%A3%E6%98%93...   \n",
       "1773   40  <a href=\"https://popn.wiki//%E9%9B%A3%E6%98%93...   \n",
       "1774   40  <a href=\"https://popn.wiki//%E9%9B%A3%E6%98%93...   \n",
       "...   ...                                                ...   \n",
       "3806   50  <a href=\"https://popn.wiki//%E9%9B%A3%E6%98%93...   \n",
       "3807   50  <a href=\"https://popn.wiki//%E9%9B%A3%E6%98%93...   \n",
       "3808   50  <a href=\"https://popn.wiki//%E9%9B%A3%E6%98%93...   \n",
       "3809   50  <a href=\"https://popn.wiki//%E9%9B%A3%E6%98%93...   \n",
       "3810   50  <a href=\"https://popn.wiki//%E9%9B%A3%E6%98%93...   \n",
       "\n",
       "                             _title  _float          _diff _attr _clear  \n",
       "1770               Over The Rainbow  40.000  中(+0.000±0.0)   NaN      n  \n",
       "1771        ミュージカル“5丁目物語”よりオーヴァーチュア  40.000  中(+0.000±0.0)   NaN      n  \n",
       "1772                        BICYCLE  40.500  強(+0.500±0.0)   NaN      n  \n",
       "1773                            大見解  39.500  弱(-0.500±0.0)   NaN      c  \n",
       "1774                   H@ppy Choice  40.500  強(+0.500±0.0)   NaN      c  \n",
       "...                             ...     ...            ...   ...    ...  \n",
       "3806                        生命の焔纏いて  49.846  中(-0.154±0.5)   NaN    NaN  \n",
       "3807                          ΔΟΓΜΑ  49.351  弱(-0.649±0.4)   NaN      n  \n",
       "3808  virkatoの主題によるperson09風超絶技巧変奏曲  50.267  中(+0.267±0.4)   NaN    NaN  \n",
       "3809                            F/S  50.693  強(+0.693±0.3)   NaN      n  \n",
       "3810                       ma plume  50.000            NaN   NaN    NaN  \n",
       "\n",
       "[2041 rows x 7 columns]"
      ]
     },
     "execution_count": 23,
     "metadata": {},
     "output_type": "execute_result"
    }
   ],
   "source": [
    "df = pd.read_csv(\"site/view.csv\")\n",
    "df.loc[df._lv >= 40]"
   ]
  },
  {
   "cell_type": "code",
   "execution_count": 22,
   "metadata": {},
   "outputs": [
    {
     "data": {
      "text/plain": [
       "<Axes: xlabel='_float', ylabel='Count'>"
      ]
     },
     "execution_count": 22,
     "metadata": {},
     "output_type": "execute_result"
    },
    {
     "data": {
      "image/png": "[encoded data removed]",
      "text/plain": [
       "<Figure size 640x480 with 1 Axes>"
      ]
     },
     "metadata": {},
     "output_type": "display_data"
    }
   ],
   "source": [
    "sns.histplot(df.loc[df._lv >= 41], bins=np.arange(40, 51, 0.1), x=\"_float\", hue=\"_clear\", multiple=\"stack\")"
   ]
  },
  {
   "cell_type": "code",
   "execution_count": 24,
   "metadata": {},
   "outputs": [
    {
     "data": {
      "text/plain": [
       "<Axes: xlabel='_float', ylabel='Count'>"
      ]
     },
     "execution_count": 24,
     "metadata": {},
     "output_type": "execute_result"
    },
    {
     "data": {
      "image/png": "[encoded data removed]",
      "text/plain": [
       "<Figure size 640x480 with 1 Axes>"
      ]
     },
     "metadata": {},
     "output_type": "display_data"
    }
   ],
   "source": [
    "sns.histplot(df.loc[df._lv >= 41], bins=np.arange(40, 51, 0.1), x=\"_float\", hue=\"_clear\", multiple=\"stack\")"
   ]
  }
 ],
 "metadata": {
  "kernelspec": {
   "display_name": ".venv",
   "language": "python",
   "name": "python3"
  },
  "language_info": {
   "codemirror_mode": {
    "name": "ipython",
    "version": 3
   },
   "file_extension": ".py",
   "mimetype": "text/x-python",
   "name": "python",
   "nbconvert_exporter": "python",
   "pygments_lexer": "ipython3",
   "version": "3.10.12"
  }
 },
 "nbformat": 4,
 "nbformat_minor": 2
}
